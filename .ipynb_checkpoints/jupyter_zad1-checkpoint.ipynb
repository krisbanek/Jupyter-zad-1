{
 "cells": [
  {
   "cell_type": "markdown",
   "id": "d29bc86f",
   "metadata": {},
   "source": [
    "# Korelacja oraz miary położenia i rozproszenia współczynnika dzietności oraz średniej oczekiwanej długości życia."
   ]
  },
  {
   "cell_type": "code",
   "execution_count": null,
   "id": "66a5141c",
   "metadata": {},
   "outputs": [],
   "source": [
    "Dane wejściowe:"
   ]
  },
  {
   "cell_type": "code",
   "execution_count": 11,
   "id": "0ce9a7b8",
   "metadata": {},
   "outputs": [],
   "source": [
    "data = [\n",
    "    (\"x1\", 1.3, 76.84878),\n",
    "    (\"x2\", 1.95, 81.40732),\n",
    "    (\"x3\", 2.466, 77.57895),\n",
    "    (\"x4\", 1.6, 74.16341),\n",
    "    (\"x5\", 2.952, 68.84907),\n",
    "    (\"x6\", 1.801, 73.88595),\n",
    "    (\"x7\", 1.34, 75.26829),\n",
    "    (\"x8\", 1.34, 76.26098),\n",
    "    (\"x9\", 1.63, 80.57244),\n",
    "    (\"x10\", 2.326, 65.46259),\n",
    "    (\"x11\", 2.436, 67.5482),\n",
    "    (\"x12\", 6.563, 55.02451),\n",
    "    (\"x13\", 1.283, 76.2799),\n",
    "    (\"x14\", 1.43, 82.29024),\n",
    "    (\"x15\", 1.988, 69.80695),\n",
    "    (\"x16\", 1.61, 81.40112),\n",
    "    (\"x17\", 1.921, 82.19756),\n",
    "    (\"x18\", 2.4, 74.22683),\n",
    "    (\"x19\", 1.495, 80.12888),\n",
    "    (\"x20\", 4.705, 45.55095)\n",
    "]"
   ]
  },
  {
   "cell_type": "code",
   "execution_count": 36,
   "id": "e91d56d8",
   "metadata": {},
   "outputs": [],
   "source": [
    "import pandas as pd\n",
    "df = pd.DataFrame(data, columns=[\"country\", \"fer_rate\", \"life_ex_ab\"])\n",
    "df = df.set_index(\"country\")"
   ]
  },
  {
   "cell_type": "markdown",
   "id": "7c1ad445",
   "metadata": {},
   "source": [
    "Import danych do obiektu DataFrame, który opisuje dwuwymiarowe dane w Pandas. "
   ]
  },
  {
   "cell_type": "code",
   "execution_count": 22,
   "id": "1a8e5b18",
   "metadata": {
    "scrolled": true
   },
   "outputs": [],
   "source": [
    "def import_data_df():\n",
    "    df = pd.DataFrame(data, columns=[\"country\", \"fer_rate\", \"life_ex_ab\"])\n",
    "    df = df.set_index(\"country\")\n",
    "    print(df)"
   ]
  },
  {
   "cell_type": "code",
   "execution_count": 19,
   "id": "d430ae82",
   "metadata": {},
   "outputs": [
    {
     "name": "stdout",
     "output_type": "stream",
     "text": [
      "         fer_rate  life_ex_ab\n",
      "country                      \n",
      "x1          1.300    76.84878\n",
      "x2          1.950    81.40732\n",
      "x3          2.466    77.57895\n",
      "x4          1.600    74.16341\n",
      "x5          2.952    68.84907\n",
      "x6          1.801    73.88595\n",
      "x7          1.340    75.26829\n",
      "x8          1.340    76.26098\n",
      "x9          1.630    80.57244\n",
      "x10         2.326    65.46259\n",
      "x11         2.436    67.54820\n",
      "x12         6.563    55.02451\n",
      "x13         1.283    76.27990\n",
      "x14         1.430    82.29024\n",
      "x15         1.988    69.80695\n",
      "x16         1.610    81.40112\n",
      "x17         1.921    82.19756\n",
      "x18         2.400    74.22683\n",
      "x19         1.495    80.12888\n",
      "x20         4.705    45.55095\n"
     ]
    }
   ],
   "source": [
    "import_data_df()"
   ]
  },
  {
   "cell_type": "markdown",
   "id": "3ddc645b",
   "metadata": {},
   "source": [
    "Sprawdzenie:"
   ]
  },
  {
   "cell_type": "code",
   "execution_count": 6,
   "id": "7a735a85",
   "metadata": {
    "scrolled": true
   },
   "outputs": [
    {
     "data": {
      "text/plain": [
       "count    20.000000\n",
       "mean      2.226800\n",
       "std       1.290487\n",
       "min       1.283000\n",
       "25%       1.478750\n",
       "50%       1.861000\n",
       "75%       2.409000\n",
       "max       6.563000\n",
       "Name: fer_rate, dtype: float64"
      ]
     },
     "execution_count": 6,
     "metadata": {},
     "output_type": "execute_result"
    }
   ],
   "source": [
    "df.fer_rate.describe()"
   ]
  },
  {
   "cell_type": "code",
   "execution_count": 7,
   "id": "b2dd35b2",
   "metadata": {
    "scrolled": true
   },
   "outputs": [
    {
     "data": {
      "text/plain": [
       "count    20.000000\n",
       "mean     73.237646\n",
       "std       9.391172\n",
       "min      45.550950\n",
       "25%      69.567480\n",
       "50%      75.764635\n",
       "75%      80.239770\n",
       "max      82.290240\n",
       "Name: life_ex_ab, dtype: float64"
      ]
     },
     "execution_count": 7,
     "metadata": {},
     "output_type": "execute_result"
    }
   ],
   "source": [
    "df.life_ex_ab.describe()"
   ]
  },
  {
   "cell_type": "markdown",
   "id": "63b1e5a3",
   "metadata": {},
   "source": [
    "Średnia arytmetyczna:"
   ]
  },
  {
   "cell_type": "code",
   "execution_count": 103,
   "id": "43961438",
   "metadata": {
    "scrolled": true
   },
   "outputs": [],
   "source": [
    "def fer_rate_ave():\n",
    "    df = pd.DataFrame(data, columns=[\"country\", \"fer_rate\", \"life_ex_ab\"])\n",
    "    df = df.set_index(\"country\")\n",
    "    fr_sum = 0\n",
    "    for fer_rate in df.fer_rate:\n",
    "        fr_sum = fr_sum + fer_rate\n",
    "    fr_ave = fr_sum/len(df.fer_rate)\n",
    "    print(\"fer_rate_ave = %f\" % fr_ave)"
   ]
  },
  {
   "cell_type": "code",
   "execution_count": 104,
   "id": "94bf6ade",
   "metadata": {},
   "outputs": [
    {
     "name": "stdout",
     "output_type": "stream",
     "text": [
      "fer_rate_ave = 2.226800\n"
     ]
    }
   ],
   "source": [
    "fer_rate_ave()"
   ]
  },
  {
   "cell_type": "code",
   "execution_count": 27,
   "id": "811ed7f6",
   "metadata": {},
   "outputs": [],
   "source": [
    "def life_ex_ab_ave():\n",
    "    df = pd.DataFrame(data, columns=[\"country\", \"fer_rate\", \"life_ex_ab\"])\n",
    "    df = df.set_index(\"country\")\n",
    "    lf_sum = 0\n",
    "    for life_ex_ab in df.life_ex_ab:\n",
    "        lf_sum = lf_sum + life_ex_ab\n",
    "    lf_ave = lf_sum/len(df.life_ex_ab)\n",
    "    print(\"life_ex_ab_ave = %f\" % lf_ave)"
   ]
  },
  {
   "cell_type": "code",
   "execution_count": 28,
   "id": "558592c8",
   "metadata": {},
   "outputs": [
    {
     "name": "stdout",
     "output_type": "stream",
     "text": [
      "life_ex_ab_ave = 73.237646\n"
     ]
    }
   ],
   "source": [
    "life_ex_ab_ave()"
   ]
  },
  {
   "cell_type": "markdown",
   "id": "74782da9",
   "metadata": {},
   "source": [
    "# Średnia arytmetyczna:\n",
    "Współczynnika dzietności: 2.226800\n",
    "Średniej oczekiwanej długości życia: 73.237646"
   ]
  },
  {
   "cell_type": "markdown",
   "id": "201814c4",
   "metadata": {},
   "source": [
    "Mediana:"
   ]
  },
  {
   "cell_type": "code",
   "execution_count": 31,
   "id": "8b2c154a",
   "metadata": {},
   "outputs": [],
   "source": [
    "def fer_rate_median():\n",
    "    df = pd.DataFrame(data, columns=[\"country\", \"fer_rate\", \"life_ex_ab\"])\n",
    "    df = df.set_index(\"country\")\n",
    "    fer_rate_sorted = sorted(df.fer_rate)\n",
    "    frs_9 = int((len(fer_rate_sorted)/2)-1)\n",
    "    frs_10 = int(len(fer_rate_sorted)/2)\n",
    "    frs_median = (fer_rate_sorted[frs_9] + fer_rate_sorted[frs_10])/2\n",
    "    print(\"fer_rate_median = %f\" %frs_median)"
   ]
  },
  {
   "cell_type": "code",
   "execution_count": 32,
   "id": "df404276",
   "metadata": {},
   "outputs": [
    {
     "name": "stdout",
     "output_type": "stream",
     "text": [
      "fer_rate_median = 1.861000\n"
     ]
    }
   ],
   "source": [
    "fer_rate_median()"
   ]
  },
  {
   "cell_type": "code",
   "execution_count": 33,
   "id": "f4cd26d9",
   "metadata": {},
   "outputs": [],
   "source": [
    "def life_ex_ab_median():\n",
    "    df = pd.DataFrame(data, columns=[\"country\", \"fer_rate\", \"life_ex_ab\"])\n",
    "    df = df.set_index(\"country\")\n",
    "    life_ex_ab_sorted = sorted(df.life_ex_ab)\n",
    "    lfs_9 = int((len(life_ex_ab_sorted)/2)-1)\n",
    "    lfs_10 = int(len(life_ex_ab_sorted)/2)\n",
    "    lfs_median = (life_ex_ab_sorted[lfs_9] + life_ex_ab_sorted[lfs_10])/2\n",
    "    print(\"life_ex_ab_median = %f\" %lfs_median)"
   ]
  },
  {
   "cell_type": "code",
   "execution_count": 34,
   "id": "d467fa21",
   "metadata": {},
   "outputs": [
    {
     "name": "stdout",
     "output_type": "stream",
     "text": [
      "life_ex_ab_median = 75.764635\n"
     ]
    }
   ],
   "source": [
    "life_ex_ab_median()"
   ]
  },
  {
   "cell_type": "markdown",
   "id": "843ef6dd",
   "metadata": {},
   "source": [
    "# Mediana:\n",
    "Współczynnika dzietności: 1.861000\n",
    "Średniej oczekiwanej długości życia: 75.764635"
   ]
  },
  {
   "cell_type": "markdown",
   "id": "e689f764",
   "metadata": {},
   "source": [
    "Dominanta:"
   ]
  },
  {
   "cell_type": "code",
   "execution_count": 77,
   "id": "70b2c5cd",
   "metadata": {
    "scrolled": true
   },
   "outputs": [
    {
     "name": "stdout",
     "output_type": "stream",
     "text": [
      "[1.283, 1.3, 1.34, 1.34, 1.43, 1.495, 1.6, 1.61, 1.63, 1.801, 1.921, 1.95, 1.988, 2.326, 2.4, 2.436, 2.466, 2.952, 4.705, 6.563]\n",
      "[45.55095, 55.02451, 65.46259, 67.5482, 68.84907, 69.80695, 73.88595, 74.16341, 74.22683, 75.26829, 76.26098, 76.2799, 76.84878, 77.57895, 80.12888, 80.57244, 81.40112, 81.40732, 82.19756, 82.29024]\n"
     ]
    }
   ],
   "source": [
    "fer_rate_sorted = sorted(df.fer_rate)\n",
    "life_ex_ab_sorted = sorted(df.life_ex_ab)\n",
    "print(fer_rate_sorted)\n",
    "print(life_ex_ab_sorted)"
   ]
  },
  {
   "cell_type": "markdown",
   "id": "fb841b52",
   "metadata": {},
   "source": [
    "# Dominanta:\n",
    "Współczynnika dzietności: 1.34\n",
    "Średniej oczekiwanej długości życia: Brak"
   ]
  },
  {
   "cell_type": "markdown",
   "id": "4ee84581",
   "metadata": {},
   "source": [
    "Histogram:"
   ]
  },
  {
   "cell_type": "markdown",
   "id": "a6e2086a",
   "metadata": {},
   "source": [
    "Przygotowanie danych do histogramu Współczynnika dzietności:"
   ]
  },
  {
   "cell_type": "code",
   "execution_count": 57,
   "id": "635c8446",
   "metadata": {},
   "outputs": [],
   "source": [
    "def histogram_data_fr():\n",
    "    df = pd.DataFrame(data, columns=[\"country\", \"fer_rate\", \"life_ex_ab\"])\n",
    "    df = df.set_index(\"country\")\n",
    "    frh1 = []\n",
    "    frh2 = []\n",
    "    frh3 = []\n",
    "    frh4 = []\n",
    "    frh5 = []\n",
    "    frh6 = []\n",
    "\n",
    "    for fer_rate in df.fer_rate:\n",
    "        if fer_rate <= 2:\n",
    "            frh1.append(fer_rate)\n",
    "        elif fer_rate > 2 and fer_rate <= 3:\n",
    "            frh2.append(fer_rate)\n",
    "        elif fer_rate > 3 and fer_rate <= 4:\n",
    "            frh3.append(fer_rate)\n",
    "        elif fer_rate > 4 and fer_rate <= 5:\n",
    "            frh4.append(fer_rate)\n",
    "        elif fer_rate > 5 and fer_rate <= 6:\n",
    "            frh5.append(fer_rate)\n",
    "        else:\n",
    "            frh6.append(fer_rate)\n",
    "    \n",
    "    fr_hist = [\n",
    "        (\"1-2\", len(frh1)),\n",
    "        (\"2-3\", len(frh2)),\n",
    "        (\"3-4\", len(frh3)),\n",
    "        (\"4-5\", len(frh4)),\n",
    "        (\"5-6\", len(frh5)),\n",
    "        (\"6-7\", len(frh6))\n",
    "    ]\n",
    "    \n",
    "    df_fr = pd.DataFrame(fr_hist, columns=[\"groups\", \"fer_rate_count\"])\n",
    "    df_fr = df_fr.set_index(\"groups\")\n",
    "    print(df_fr)"
   ]
  },
  {
   "cell_type": "code",
   "execution_count": 58,
   "id": "11d62309",
   "metadata": {},
   "outputs": [
    {
     "name": "stdout",
     "output_type": "stream",
     "text": [
      "        fer_rate_count\n",
      "groups                \n",
      "1-2                 13\n",
      "2-3                  5\n",
      "3-4                  0\n",
      "4-5                  1\n",
      "5-6                  0\n",
      "6-7                  1\n"
     ]
    }
   ],
   "source": [
    "histogram_data_fr()"
   ]
  },
  {
   "cell_type": "code",
   "execution_count": 48,
   "id": "8c1f958d",
   "metadata": {},
   "outputs": [],
   "source": [
    "Przygotowanie histogramu Współczynnika dzietności:"
   ]
  },
  {
   "cell_type": "code",
   "execution_count": 59,
   "id": "aab1d983",
   "metadata": {},
   "outputs": [],
   "source": [
    "def histogram_plot_fr():\n",
    "    df_fr = pd.DataFrame(fr_hist, columns=[\"groups\", \"fer_rate_count\"])\n",
    "    df_fr = df_fr.set_index(\"groups\")\n",
    "    df_fr['fer_rate_count'].plot(kind='bar', title='Histogram Współczynnika dzietności')"
   ]
  },
  {
   "cell_type": "code",
   "execution_count": 60,
   "id": "97b0e7b1",
   "metadata": {},
   "outputs": [
    {
     "data": {
      "image/png": "[encoded data removed]",
      "text/plain": [
       "<Figure size 432x288 with 1 Axes>"
      ]
     },
     "metadata": {
      "needs_background": "light"
     },
     "output_type": "display_data"
    }
   ],
   "source": [
    "histogram_plot_fr()"
   ]
  },
  {
   "cell_type": "code",
   "execution_count": null,
   "id": "acdd22d9",
   "metadata": {},
   "outputs": [],
   "source": [
    "Przygotowanie danych do histogramu Średniej oczekiwanej długości życia:"
   ]
  },
  {
   "cell_type": "code",
   "execution_count": 94,
   "id": "63b16c6f",
   "metadata": {},
   "outputs": [],
   "source": [
    "def histogram_data_lf():\n",
    "    df = pd.DataFrame(data, columns=[\"country\", \"fer_rate\", \"life_ex_ab\"])\n",
    "    df = df.set_index(\"country\")\n",
    "    lfh1 = []\n",
    "    lfh2 = []\n",
    "    lfh3 = []\n",
    "    lfh4 = []\n",
    "    lfh5 = []\n",
    "\n",
    "    for life_ex_ab in df.life_ex_ab:\n",
    "        if life_ex_ab <= 50:\n",
    "            lfh1.append(life_ex_ab)\n",
    "        elif life_ex_ab > 50 and life_ex_ab <= 60:\n",
    "            lfh2.append(life_ex_ab)\n",
    "        elif life_ex_ab > 60 and life_ex_ab <= 70:\n",
    "            lfh3.append(life_ex_ab)\n",
    "        elif life_ex_ab > 70 and life_ex_ab <= 80:\n",
    "            lfh4.append(life_ex_ab)\n",
    "        else:\n",
    "            lfh5.append(life_ex_ab)\n",
    "            \n",
    "    lf_hist = [\n",
    "        (\"40-50\", len(lfh1)),\n",
    "        (\"50-60\", len(lfh2)),\n",
    "        (\"60-70\", len(lfh3)),\n",
    "        (\"70-80\", len(lfh4)),\n",
    "        (\"80-90\", len(lfh5))\n",
    "    ]\n",
    "    \n",
    "    df_lf = pd.DataFrame(lf_hist, columns=[\"groups\", \"life_ex_ab_count\"])\n",
    "    df_lf = df_lf.set_index(\"groups\")\n",
    "    print(df_lf)\n",
    "    \n",
    "    df_lf['life_ex_ab_count'].plot(kind='bar', title='Histogram Średniej oczekiwanej długości życia')"
   ]
  },
  {
   "cell_type": "code",
   "execution_count": 95,
   "id": "b1a2de7e",
   "metadata": {},
   "outputs": [
    {
     "name": "stdout",
     "output_type": "stream",
     "text": [
      "        life_ex_ab_count\n",
      "groups                  \n",
      "40-50                  1\n",
      "50-60                  1\n",
      "60-70                  4\n",
      "70-80                  8\n",
      "80-90                  6\n"
     ]
    },
    {
     "data": {
      "image/png": "[encoded data removed]",
      "text/plain": [
       "<Figure size 432x288 with 1 Axes>"
      ]
     },
     "metadata": {
      "needs_background": "light"
     },
     "output_type": "display_data"
    }
   ],
   "source": [
    "histogram_data_lf()"
   ]
  },
  {
   "cell_type": "markdown",
   "id": "2262939f",
   "metadata": {},
   "source": [
    "Przygotowanie histogramu Średniej oczekiwanej długości życia:"
   ]
  },
  {
   "cell_type": "markdown",
   "id": "873d5af1",
   "metadata": {},
   "source": [
    "# Miary Rozporszenia:"
   ]
  },
  {
   "cell_type": "code",
   "execution_count": 105,
   "id": "02c181e8",
   "metadata": {},
   "outputs": [],
   "source": [
    "def fer_rate_st_dev():\n",
    "    df = pd.DataFrame(data, columns=[\"country\", \"fer_rate\", \"life_ex_ab\"])\n",
    "    df = df.set_index(\"country\")\n",
    "    fr_sum = 0\n",
    "    for fer_rate in df.fer_rate:\n",
    "        fr_sum = fr_sum + fer_rate\n",
    "    fr_ave = fr_sum/len(df.fer_rate)\n",
    "    fr_list = []\n",
    "    for fer_rate in df.fer_rate:\n",
    "        fr_list.append(pow((fer_rate - fr_ave),2))\n",
    "    \n",
    "    fr_dev = (sum(fr_list)/(len(fr_list)-1))**(1.0/2)\n",
    "    print(\"fer_rate_st_dev = %f\" % fr_dev)"
   ]
  },
  {
   "cell_type": "code",
   "execution_count": 106,
   "id": "b29d6cb0",
   "metadata": {},
   "outputs": [
    {
     "name": "stdout",
     "output_type": "stream",
     "text": [
      "fer_rate_st_dev = 1.290487\n"
     ]
    }
   ],
   "source": [
    "fer_rate_st_dev()"
   ]
  },
  {
   "cell_type": "code",
   "execution_count": 107,
   "id": "9d649576",
   "metadata": {},
   "outputs": [],
   "source": [
    "def life_ex_ab_st_dev():\n",
    "    df = pd.DataFrame(data, columns=[\"country\", \"fer_rate\", \"life_ex_ab\"])\n",
    "    df = df.set_index(\"country\")\n",
    "    lf_sum = 0\n",
    "    for life_ex_ab in df.life_ex_ab:\n",
    "        lf_sum = lf_sum + life_ex_ab\n",
    "    lf_ave = lf_sum/len(df.life_ex_ab) \n",
    "    lf_list = []\n",
    "    for life_ex_ab in df.life_ex_ab:\n",
    "        lf_list.append(pow((life_ex_ab - lf_ave),2))\n",
    "    \n",
    "    lf_dev = (sum(lf_list)/(len(lf_list)-1))**(1.0/2)\n",
    "    print(\"life_ex_ab_st_dev = %f\" % lf_dev)"
   ]
  },
  {
   "cell_type": "code",
   "execution_count": 108,
   "id": "f0f0aeb3",
   "metadata": {
    "scrolled": true
   },
   "outputs": [
    {
     "name": "stdout",
     "output_type": "stream",
     "text": [
      "life_ex_ab_st_dev = 9.391172\n"
     ]
    }
   ],
   "source": [
    "life_ex_ab_st_dev()"
   ]
  },
  {
   "cell_type": "markdown",
   "id": "426b9758",
   "metadata": {},
   "source": [
    "# Odchylenie standartowe:\n",
    "Współczynnika dzietności: 1.290487\n",
    "Średniej oczekiwanej długości życia: 9.391172"
   ]
  },
  {
   "cell_type": "markdown",
   "id": "262e871b",
   "metadata": {},
   "source": [
    "Kowariancja:"
   ]
  },
  {
   "cell_type": "code",
   "execution_count": 112,
   "id": "43b4e713",
   "metadata": {},
   "outputs": [],
   "source": [
    "def cov():\n",
    "    df = pd.DataFrame(data, columns=[\"country\", \"fer_rate\", \"life_ex_ab\"])\n",
    "    df = df.set_index(\"country\")\n",
    "    \n",
    "    fr_sum = 0\n",
    "    for fer_rate in df.fer_rate:\n",
    "        fr_sum = fr_sum + fer_rate\n",
    "    fr_ave = fr_sum/len(df.fer_rate)\n",
    "    \n",
    "    lf_sum = 0\n",
    "    for life_ex_ab in df.life_ex_ab:\n",
    "        lf_sum = lf_sum + life_ex_ab\n",
    "    lf_ave = lf_sum/len(df.life_ex_ab) \n",
    "    \n",
    "    fr1_list = []\n",
    "    lf1_list = []\n",
    "    z_list = []\n",
    "    \n",
    "    for fer_rate in df.fer_rate:\n",
    "        fr1_list.append(fer_rate - fr_ave)\n",
    "    \n",
    "    for life_ex_ab in df.life_ex_ab:\n",
    "        lf1_list.append(life_ex_ab - lf_ave)\n",
    "\n",
    "    for n in range(len(fr1_list)):\n",
    "        z_list.append(fr1_list[n]*lf1_list[n])\n",
    "    cov = sum(z_list)/(len(fr1_list)-1)\n",
    "    \n",
    "    print(\"cov = %f\" % cov)"
   ]
  },
  {
   "cell_type": "code",
   "execution_count": 113,
   "id": "e731ee7a",
   "metadata": {},
   "outputs": [
    {
     "name": "stdout",
     "output_type": "stream",
     "text": [
      "cov = -9.943704\n"
     ]
    }
   ],
   "source": [
    "cov()"
   ]
  },
  {
   "cell_type": "markdown",
   "id": "6471e79c",
   "metadata": {},
   "source": [
    "# Kowariancja: -9.943704"
   ]
  },
  {
   "cell_type": "markdown",
   "id": "47c8b942",
   "metadata": {},
   "source": [
    "Współczynnik kowariancji:"
   ]
  },
  {
   "cell_type": "code",
   "execution_count": 118,
   "id": "5524e3d6",
   "metadata": {},
   "outputs": [],
   "source": [
    "def cov_coef():\n",
    "    df = pd.DataFrame(data, columns=[\"country\", \"fer_rate\", \"life_ex_ab\"])\n",
    "    df = df.set_index(\"country\")\n",
    "    \n",
    "    fr_sum = 0\n",
    "    for fer_rate in df.fer_rate:\n",
    "        fr_sum = fr_sum + fer_rate\n",
    "    fr_ave = fr_sum/len(df.fer_rate)\n",
    "    fr_list = []\n",
    "    for fer_rate in df.fer_rate:\n",
    "        fr_list.append(pow((fer_rate - fr_ave),2))\n",
    "    fr_dev = (sum(fr_list)/(len(fr_list)-1))**(1.0/2)\n",
    "    \n",
    "    lf_sum = 0\n",
    "    for life_ex_ab in df.life_ex_ab:\n",
    "        lf_sum = lf_sum + life_ex_ab\n",
    "    lf_ave = lf_sum/len(df.life_ex_ab) \n",
    "    lf_list = []\n",
    "    for life_ex_ab in df.life_ex_ab:\n",
    "        lf_list.append(pow((life_ex_ab - lf_ave),2))\n",
    "    \n",
    "    lf_dev = (sum(lf_list)/(len(lf_list)-1))**(1.0/2)\n",
    "    \n",
    "    fr1_list = []\n",
    "    lf1_list = []\n",
    "    z_list = []\n",
    "    \n",
    "    for fer_rate in df.fer_rate:\n",
    "        fr1_list.append(fer_rate - fr_ave)\n",
    "    \n",
    "    for life_ex_ab in df.life_ex_ab:\n",
    "        lf1_list.append(life_ex_ab - lf_ave)\n",
    "\n",
    "    for n in range(len(fr1_list)):\n",
    "        z_list.append(fr1_list[n]*lf1_list[n])\n",
    "    cov = sum(z_list)/(len(fr1_list)-1)\n",
    "    \n",
    "    cov_coef = cov/(fr_dev*lf_dev)\n",
    "    print(\"cov_coef = %f\" % cov_coef)"
   ]
  },
  {
   "cell_type": "code",
   "execution_count": 119,
   "id": "b3b81d7d",
   "metadata": {},
   "outputs": [
    {
     "name": "stdout",
     "output_type": "stream",
     "text": [
      "cov_coef = -0.820493\n"
     ]
    }
   ],
   "source": [
    "cov_coef()"
   ]
  },
  {
   "cell_type": "code",
   "execution_count": null,
   "id": "26c04a97",
   "metadata": {},
   "outputs": [],
   "source": [
    "Współczynnik kowariancji: -0.820493. Bardzo wysoka korelacja ujemna."
   ]
  },
  {
   "cell_type": "markdown",
   "id": "735679ea",
   "metadata": {},
   "source": [
    "Średnia oczekiwana długość życia dla całej populacji przy poziomie ufności 95%:"
   ]
  },
  {
   "cell_type": "code",
   "execution_count": 124,
   "id": "f576ed57",
   "metadata": {
    "scrolled": true
   },
   "outputs": [],
   "source": [
    "def life_ex_ab_range():\n",
    "    za2 = 1.96\n",
    "    st_dev = 9.09\n",
    "    \n",
    "    fr_sum = 0\n",
    "    for fer_rate in df.fer_rate:\n",
    "        fr_sum = fr_sum + fer_rate\n",
    "    fr_ave = fr_sum/len(df.fer_rate)\n",
    "    \n",
    "    lf_sum = 0\n",
    "    for life_ex_ab in df.life_ex_ab:\n",
    "        lf_sum = lf_sum + life_ex_ab\n",
    "    lf_ave = lf_sum/len(df.life_ex_ab)\n",
    "    \n",
    "    fr_list = []\n",
    "    for fer_rate in df.fer_rate:\n",
    "        fr_list.append(pow((fer_rate - fr_ave),2))\n",
    "        \n",
    "    lf_list = []\n",
    "    for life_ex_ab in df.life_ex_ab:\n",
    "        lf_list.append(pow((life_ex_ab - lf_ave),2))\n",
    "\n",
    "    life_ex_ab_ave_minus = lf_ave - za2*(st_dev/((len(fr_list))**(1.0/2)))\n",
    "    life_ex_ab_ave_plus = lf_ave + za2*(st_dev/((len(fr_list))**(1.0/2)))\n",
    "    print(\"life_ex_ab_ave_minus = %f\" % life_ex_ab_ave_minus)\n",
    "    print(\"life_ex_ab_ave_plus = %f\" % life_ex_ab_ave_plus)"
   ]
  },
  {
   "cell_type": "code",
   "execution_count": 125,
   "id": "5fb29717",
   "metadata": {},
   "outputs": [
    {
     "name": "stdout",
     "output_type": "stream",
     "text": [
      "life_ex_ab_ave_minus = 69.253778\n",
      "life_ex_ab_ave_plus = 77.221514\n"
     ]
    }
   ],
   "source": [
    "life_ex_ab_range()"
   ]
  },
  {
   "cell_type": "markdown",
   "id": "18f13a48",
   "metadata": {},
   "source": [
    "# Średnia oczekiwana długość życia dla całej populacji przy poziomie ufności 95% mieści się w przedziale od 69.253778 do 77.221514 lat."
   ]
  }
 ],
 "metadata": {
  "kernelspec": {
   "display_name": "Python 3 (ipykernel)",
   "language": "python",
   "name": "python3"
  },
  "language_info": {
   "codemirror_mode": {
    "name": "ipython",
    "version": 3
   },
   "file_extension": ".py",
   "mimetype": "text/x-python",
   "name": "python",
   "nbconvert_exporter": "python",
   "pygments_lexer": "ipython3",
   "version": "3.9.7"
  }
 },
 "nbformat": 4,
 "nbformat_minor": 5
}
